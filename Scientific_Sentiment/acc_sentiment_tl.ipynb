{
 "cells": [
  {
   "cell_type": "code",
   "execution_count": 31,
   "metadata": {},
   "outputs": [
    {
     "name": "stdout",
     "output_type": "stream",
     "text": [
      "SVM Accuracy Score ->  0.9285714285714286\n",
      "SVM Recall Score ->  1.0\n",
      "SVM Precision Score ->  0.8936170212765957\n",
      "I’m not getting the vaccine. COVID is not statistically a threat to my life and everyone spreads it, regardless if they are vaccinated or not. Tyranny is a bigger threat to my life than COVID.\n",
      "Anti-Science Tweet: 0.166\n",
      "Shots are never fun, but the kids I met at Kimball Elementary knew how important the COVID-19 vaccines are to keep our families and communities safe. Check out @ItsMadeToSavefor more information about the vaccines, and make your appointment at http://vaccines.gov.\n",
      "Pro-Science Tweet: 0.869\n"
     ]
    }
   ],
   "source": [
    "#Import corpora, clean data, train SVM model, and create science sentiment function\n",
    "\n",
    "import pandas as pd\n",
    "import numpy as np\n",
    "from nltk.corpus import stopwords\n",
    "from nltk import pos_tag\n",
    "from nltk.tokenize import word_tokenize\n",
    "from sklearn.feature_extraction.text import TfidfVectorizer\n",
    "from sklearn import model_selection, naive_bayes, svm\n",
    "from nltk.stem import WordNetLemmatizer\n",
    "from collections import defaultdict\n",
    "from nltk.corpus import wordnet as wn\n",
    "from sklearn.metrics import accuracy_score, recall_score, precision_score\n",
    "from sklearn.model_selection import cross_val_score\n",
    "from sklearn.calibration import CalibratedClassifierCV\n",
    "from datetime import datetime\n",
    "\n",
    "#Loading Dataframes\n",
    "pro_sci = pd.read_csv('pro_science.csv',sep=',')\n",
    "anti_sci = pd.read_csv('anti_science.csv')\n",
    "\n",
    "#Renaming and Cleaning Dataframes\n",
    "pro_sci = pro_sci.drop(columns='Unnamed: 0')\n",
    "pro_sci.rename(columns= {'0':'Tweet'}, inplace=True)\n",
    "#adds label 0 for pro-science Tweets\n",
    "pro_sci['label'] = 1\n",
    "\n",
    "anti_sci = anti_sci.drop(columns='Unnamed: 0')\n",
    "anti_sci.rename(columns= {'0':'Tweet'}, inplace=True)\n",
    "#adds label 0 for anti-science Tweets\n",
    "anti_sci['label'] = 0\n",
    "\n",
    "corpus = pro_sci.append(anti_sci, ignore_index=True)\n",
    "\n",
    "#Text processing in corpus dataframe\n",
    "#Lowercase\n",
    "corpus['Tweet'] = [entry.lower() for entry in corpus['Tweet']]\n",
    "#Tokenizing\n",
    "corpus['Tweet']= [word_tokenize(entry) for entry in corpus['Tweet']]\n",
    "#Tags for Word Lemmatization\n",
    "tag_map = defaultdict(lambda : wn.NOUN)\n",
    "tag_map['J'] = wn.ADJ\n",
    "tag_map['V'] = wn.VERB\n",
    "tag_map['R'] = wn.ADV\n",
    "\n",
    "for index,entry in enumerate(corpus['Tweet']):\n",
    "    final_words = []\n",
    "    # Initializing WordNetLemmatizer()\n",
    "    word_Lemmatized = WordNetLemmatizer()\n",
    "    # Provides tags for nouns, verbs, adjectives\n",
    "    for word, tag in pos_tag(entry):\n",
    "        # Check for stopwords\n",
    "        if word not in stopwords.words('english') and word.isalpha():\n",
    "            word_final = word_Lemmatized.lemmatize(word,tag_map[tag[0]])\n",
    "            final_words.append(word_final)\n",
    "    # Stores final processed words for each Tweet in column \"text_final\"\n",
    "    corpus.loc[index,'text_final'] = str(final_words)\n",
    "Train_X, Test_X, Train_Y, Test_Y = model_selection.train_test_split(corpus['text_final'],corpus['label'],test_size=0.2)\n",
    "Tfidf_vect = TfidfVectorizer(ngram_range=(1,3))\n",
    "Tfidf_vect.fit(corpus['text_final'])\n",
    "\n",
    "Train_X_Tfidf = Tfidf_vect.transform(Train_X)\n",
    "Test_X_Tfidf = Tfidf_vect.transform(Test_X)\n",
    "\n",
    "#Support Vector Machine\n",
    "\n",
    "svm = svm.SVC(C=1.0, kernel='linear', degree=3, gamma='auto', probability=True)\n",
    "clf = CalibratedClassifierCV(base_estimator=svm) \n",
    "clf.fit(Train_X_Tfidf,Train_Y, np.random.seed(42))\n",
    "svm_pred = clf.predict(Test_X_Tfidf)\n",
    "print(\"SVM Accuracy Score -> \",accuracy_score(svm_pred, Test_Y))\n",
    "print(\"SVM Recall Score -> \",recall_score(svm_pred, Test_Y))\n",
    "print(\"SVM Precision Score -> \",precision_score(svm_pred, Test_Y))\n",
    "\n",
    "#Takes single Tweet as string\n",
    "def sci_sentiment(tweet):\n",
    "    df = pd.DataFrame([tweet],columns=['Tweet'])\n",
    "    df['Tweet'] = [entry.lower() for entry in df['Tweet']]\n",
    "    Tfidf_vect.fit(corpus['text_final'])\n",
    "    tweet_Tfidf = Tfidf_vect.transform((df['Tweet']))\n",
    "    svm_tweet_pred = clf.predict(tweet_Tfidf)\n",
    "    #print('SVM:', svm_tweet_pred)\n",
    "    pred_probs = clf.predict_proba(tweet_Tfidf)\n",
    "    return round(pred_probs[0][1],3)\n",
    "\n",
    "anti_tweet = sci_sentiment(\"I’m not getting the vaccine. COVID is not statistically a threat to my life and everyone spreads it, regardless if they are vaccinated or not. Tyranny is a bigger threat to my life than COVID.\")\n",
    "pro_tweet = sci_sentiment(\"Shots are never fun, but the kids I met at Kimball Elementary knew how important the COVID-19 vaccines are to keep our families and communities safe. Check out @ItsMadeToSavefor more information about the vaccines, and make your appointment at http://vaccines.gov.\")\n",
    "print(\"I’m not getting the vaccine. COVID is not statistically a threat to my life and everyone spreads it, regardless if they are vaccinated or not. Tyranny is a bigger threat to my life than COVID.\")\n",
    "print(\"Anti-Science Tweet:\",anti_tweet)\n",
    "print(\"Shots are never fun, but the kids I met at Kimball Elementary knew how important the COVID-19 vaccines are to keep our families and communities safe. Check out @ItsMadeToSavefor more information about the vaccines, and make your appointment at http://vaccines.gov.\")\n",
    "print(\"Pro-Science Tweet:\",pro_tweet)"
   ]
  },
  {
   "cell_type": "code",
   "execution_count": 32,
   "metadata": {},
   "outputs": [
    {
     "data": {
      "text/plain": [
       "0"
      ]
     },
     "execution_count": 32,
     "metadata": {},
     "output_type": "execute_result"
    }
   ],
   "source": [
    "#Create JSONL file containing timeline of user's Tweets\n",
    "import subprocess\n",
    "import twarc\n",
    "user = input(\"Enter Twitter handle: \")\n",
    "filename = user + '.jsonl'\n",
    "op1 = open(filename, 'w')\n",
    "subprocess.call(['twarc', 'timeline', user], stdout=op1)"
   ]
  },
  {
   "cell_type": "code",
   "execution_count": 33,
   "metadata": {},
   "outputs": [
    {
     "name": "stdout",
     "output_type": "stream",
     "text": [
      "               created_at                                               text\n",
      "1644  2020-10-23 20:30:10  The latest CDC #COVIDView report shows increas...\n",
      "1643  2020-10-23 21:00:29  OUTBREAK ALERT: 10 people hospitalized in a Li...\n",
      "1642  2020-10-26 15:11:02  Join today’s CDC COVID-19 Partner Update Call,...\n",
      "1641  2020-10-26 18:23:02  The latest CDC #COVIDView report shows the per...\n",
      "1640  2020-10-26 19:48:02  #Halloween will be different this year, but it...\n",
      "...                   ...                                                ...\n",
      "4     2021-12-03 18:19:41  A recent flu outbreak at @UMich serves as a re...\n",
      "3     2021-12-03 18:20:15  When you’re getting your #flu vaccine, it is a...\n",
      "2     2021-12-03 19:00:09  CDC is strengthening its recommendation on #CO...\n",
      "1     2021-12-03 20:30:03  The latest CDC #FluView continues to show slow...\n",
      "0     2021-12-03 21:30:04  People who are or were recently pregnant are m...\n",
      "\n",
      "[1645 rows x 2 columns]\n"
     ]
    }
   ],
   "source": [
    "#Creates dataframe of user's Tweets their time of creation\n",
    "import jsonlines\n",
    "date_list = []\n",
    "dt_date_list = []\n",
    "text_list = []\n",
    "word_set = set(['COVID-19','covid','vaccine','flu','sick','mask','jab','CDC','corona','coronavirus','virus','covid19', 'spread','pandemic','outbreak','transmission','symptom','asymptomatic','social distance','social distancing','quarantine','lockdown','shot','healthy','medical','science'])\n",
    "with jsonlines.open(filename) as f:\n",
    "    for line in f.iter():\n",
    "        if word_set.intersection(set(line['full_text'].split())):\n",
    "            date_list.append(line['created_at'])\n",
    "            text_list.append(line['full_text'])\n",
    "for i in date_list:\n",
    "    dt_date_list.append(datetime.strftime(datetime.strptime(i,'%a %b %d %H:%M:%S +0000 %Y'), '%Y-%m-%d %H:%M:%S'))\n",
    "user_df = pd.DataFrame([dt_date_list, text_list], index = ['created_at','text']).transpose().iloc[::-1]\n",
    "print(user_df)\n",
    "        "
   ]
  },
  {
   "cell_type": "code",
   "execution_count": 34,
   "metadata": {},
   "outputs": [
    {
     "name": "stdout",
     "output_type": "stream",
     "text": [
      "               created_at                                               text  \\\n",
      "1644  2020-10-23 20:30:10  The latest CDC #COVIDView report shows increas...   \n",
      "1643  2020-10-23 21:00:29  OUTBREAK ALERT: 10 people hospitalized in a Li...   \n",
      "1642  2020-10-26 15:11:02  Join today’s CDC COVID-19 Partner Update Call,...   \n",
      "1641  2020-10-26 18:23:02  The latest CDC #COVIDView report shows the per...   \n",
      "1640  2020-10-26 19:48:02  #Halloween will be different this year, but it...   \n",
      "\n",
      "      sci_score  \n",
      "1644      0.900  \n",
      "1643      0.903  \n",
      "1642      0.965  \n",
      "1641      0.908  \n",
      "1640      0.939  \n"
     ]
    }
   ],
   "source": [
    "#Calculates sentiment scores for each Tweet, adds to user dataframe\n",
    "sci_sentiment_scores = []\n",
    "for tweet in user_df['text']:\n",
    "    sci_sentiment_scores.append(sci_sentiment(tweet))\n",
    "\n",
    "user_df['sci_score'] = sci_sentiment_scores\n",
    "print(user_df.head())"
   ]
  },
  {
   "cell_type": "code",
   "execution_count": 35,
   "metadata": {},
   "outputs": [
    {
     "data": {
      "image/png": "[encoded data removed]",
      "text/plain": [
       "<Figure size 432x288 with 1 Axes>"
      ]
     },
     "metadata": {
      "needs_background": "light"
     },
     "output_type": "display_data"
    }
   ],
   "source": [
    "import matplotlib.pyplot as plt\n",
    "import matplotlib.dates as mdates\n",
    "from datetime import datetime\n",
    "\n",
    "fdates = []\n",
    "dateformat = '%Y-%m-%d %H:%M:%S'\n",
    "for dt in user_df['created_at']:\n",
    "    fdates.append(datetime.strptime(dt,dateformat))\n",
    "datesfinal = mdates.date2num(fdates)\n",
    "\n",
    "user_df['SMA'] = user_df.sci_score.rolling(((round(.03*len(user_df.index)))),min_periods=1).mean()\n",
    "\n",
    "plt.plot_date(datesfinal,user_df['sci_score'])\n",
    "plt.plot_date(datesfinal,user_df['SMA'],linestyle='solid',marker=\",\")\n",
    "plt.xlabel\n",
    "plt.gcf().autofmt_xdate()\n",
    "plt.ylabel('Science Sentiment')\n",
    "plt.show(block=True)\n"
   ]
  }
 ],
 "metadata": {
  "interpreter": {
   "hash": "31f2aee4e71d21fbe5cf8b01ff0e069b9275f58929596ceb00d14d90e3e16cd6"
  },
  "kernelspec": {
   "display_name": "Python 3.8.10 64-bit",
   "language": "python",
   "name": "python3"
  },
  "language_info": {
   "codemirror_mode": {
    "name": "ipython",
    "version": 3
   },
   "file_extension": ".py",
   "mimetype": "text/x-python",
   "name": "python",
   "nbconvert_exporter": "python",
   "pygments_lexer": "ipython3",
   "version": "3.8.10"
  },
  "orig_nbformat": 4
 },
 "nbformat": 4,
 "nbformat_minor": 2
}
